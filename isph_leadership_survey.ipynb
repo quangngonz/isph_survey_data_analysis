{
 "cells": [
  {
   "cell_type": "markdown",
   "metadata": {},
   "source": [
    "# ISPH Leadership Survey"
   ]
  },
  {
   "cell_type": "code",
   "execution_count": null,
   "metadata": {},
   "outputs": [],
   "source": [
    "# Import all the necessary libraries for data analysis\n",
    "import pandas as pd\n",
    "import numpy as np\n",
    "import matplotlib.pyplot as plt\n",
    "import seaborn as sns"
   ]
  },
  {
   "cell_type": "code",
   "execution_count": null,
   "metadata": {},
   "outputs": [],
   "source": [
    "# read data from survey_data.csv\n",
    "\n",
    "data = pd.read_csv('survey_data.csv')\n",
    "\n",
    "# Size of the data\n",
    "data.shape\n",
    "\n",
    "data_array = data.values\n",
    "\n",
    "data.head()"
   ]
  },
  {
   "cell_type": "code",
   "execution_count": null,
   "metadata": {},
   "outputs": [],
   "source": [
    "# Sort the year groups \"Year 1\" to \"Year 11\" etc\n",
    "sorted_year_group = ['Year 7', 'Year 8', 'Year 9', 'Year 10', 'Year 11', 'Year 12', 'Year 13']"
   ]
  },
  {
   "cell_type": "code",
   "execution_count": null,
   "metadata": {},
   "outputs": [],
   "source": [
    "# Count how many students are in each year group\n",
    "\n",
    "year_group_count = data['Year Group'].value_counts().reindex(sorted_year_group)\n",
    "# Plot the number of students in each year group\n",
    "plt.figure(figsize=(12, 6))\n",
    "sns.barplot(x=year_group_count.index, y=year_group_count.values)\n",
    "plt.title('Number of Students in Each Year Group')\n",
    "plt.xlabel('Year Group')\n",
    "plt.ylabel('Number of Students')\n",
    "plt.show()\n",
    "\n",
    "year_group_count"
   ]
  },
  {
   "cell_type": "code",
   "execution_count": null,
   "metadata": {},
   "outputs": [],
   "source": [
    "year_group_count['Year 8'] = 16"
   ]
  },
  {
   "cell_type": "code",
   "execution_count": null,
   "metadata": {},
   "outputs": [],
   "source": [
    "questions = data.columns[4:]\n",
    "\n",
    "questions_dict = {}\n",
    "\n",
    "responses = ['Strongly Disagree', 'Disagree', 'Agree', 'Strongly Agree']\n",
    "\n",
    "for i in range(len(questions)):\n",
    "    questions_dict[questions[i]] = {}\n",
    "\n",
    "    for year_group in sorted_year_group:\n",
    "        questions_dict[questions[i]][year_group] = {}\n",
    "\n",
    "        for response in responses:\n",
    "            questions_dict[questions[i]][year_group][response] = 0\n",
    "\n",
    "questions_dict[questions[0]]\n"
   ]
  },
  {
   "cell_type": "code",
   "execution_count": null,
   "metadata": {},
   "outputs": [],
   "source": [
    "for i, response in enumerate(data_array):\n",
    "    print(i, response[4:])"
   ]
  },
  {
   "cell_type": "code",
   "execution_count": null,
   "metadata": {},
   "outputs": [],
   "source": [
    "for reponse in data_array[1:]:\n",
    "    student_info = reponse[:4]\n",
    "    year_group = student_info[1]\n",
    "    student_responses = reponse[4:]\n",
    "\n",
    "    for i, question in enumerate(questions):\n",
    "        word_response = responses[student_responses[i]-1]\n",
    "\n",
    "        questions_dict[question][year_group][word_response] += 1\n",
    "\n",
    "questions_dict"
   ]
  },
  {
   "cell_type": "code",
   "execution_count": null,
   "metadata": {},
   "outputs": [],
   "source": [
    "# verify all data are counted of yeah group\n",
    "\n",
    "for index, question in enumerate(questions):\n",
    "    for year_group in sorted_year_group:\n",
    "        total = sum(questions_dict[question][year_group].values())\n",
    "        if total != year_group_count[year_group]:\n",
    "            print(f'Q{index} - {year_group} - Expected {year_group_count[year_group]}: {total}')"
   ]
  },
  {
   "cell_type": "code",
   "execution_count": null,
   "metadata": {},
   "outputs": [],
   "source": [
    "# for each question, create table of percentage of responses for each year group\n",
    "\n",
    "questions_percentage = {}\n",
    "\n",
    "for i, question in enumerate(questions):\n",
    "    questions_percentage[question] = {}\n",
    "\n",
    "    for year_group in sorted_year_group:\n",
    "        questions_percentage[question][year_group] = {}\n",
    "\n",
    "        total = sum(questions_dict[question][year_group].values())\n",
    "\n",
    "        for response in responses:\n",
    "            questions_percentage[question][year_group][response] = round(questions_dict[question][year_group][response] / total * 100, 2)\n",
    "\n",
    "questions_percentage[questions[0]]"
   ]
  },
  {
   "cell_type": "code",
   "execution_count": null,
   "metadata": {},
   "outputs": [],
   "source": [
    "!mkdir -p csv_year"
   ]
  },
  {
   "cell_type": "code",
   "execution_count": null,
   "metadata": {},
   "outputs": [],
   "source": [
    "# Export table for each question\n",
    "\n",
    "for i, question in enumerate(questions):\n",
    "    question_data = questions_percentage[question]\n",
    "    question_df = pd.DataFrame(question_data).T\n",
    "    question_df.to_csv(f'csv_year/Q{i+1}_percentage.csv')"
   ]
  },
  {
   "cell_type": "code",
   "execution_count": null,
   "metadata": {},
   "outputs": [],
   "source": [
    "nationalities = data['Nationality'].unique()\n",
    "nationalities"
   ]
  },
  {
   "cell_type": "code",
   "execution_count": null,
   "metadata": {},
   "outputs": [],
   "source": [
    "questions = data.columns[4:]\n",
    "\n",
    "questions_dict_nationality = {}\n",
    "\n",
    "for i in range(len(questions)):\n",
    "    questions_dict_nationality[questions[i]] = {}\n",
    "\n",
    "    for nationality in nationalities:\n",
    "        questions_dict_nationality[questions[i]][nationality] = {}\n",
    "\n",
    "        for response in responses:\n",
    "            questions_dict_nationality[questions[i]][nationality][response] = 0\n",
    "\n",
    "questions_dict_nationality\n"
   ]
  },
  {
   "cell_type": "code",
   "execution_count": null,
   "metadata": {},
   "outputs": [],
   "source": [
    "for reponse in data_array[1:]:\n",
    "    student_info = reponse[:4]\n",
    "    nationality = student_info[2]\n",
    "    student_responses = reponse[4:]\n",
    "\n",
    "    for i, question in enumerate(questions):\n",
    "        word_response = responses[student_responses[i]-1]\n",
    "\n",
    "        questions_dict_nationality[question][nationality][word_response] += 1\n",
    "\n",
    "questions_dict_nationality"
   ]
  },
  {
   "cell_type": "code",
   "execution_count": null,
   "metadata": {},
   "outputs": [],
   "source": [
    "# for each question, create table of percentage of responses for each year group\n",
    "\n",
    "questions_percentage_nationality = {}\n",
    "\n",
    "for i, question in enumerate(questions):\n",
    "    questions_percentage_nationality[question] = {}\n",
    "\n",
    "    for nationality in nationalities:\n",
    "        questions_percentage_nationality[question][nationality] = {}\n",
    "\n",
    "        total = sum(questions_dict_nationality[question][nationality].values())\n",
    "\n",
    "        for response in responses:\n",
    "            questions_percentage_nationality[question][nationality][response] = round(questions_dict_nationality[question][nationality][response] / total * 100, 2)\n",
    "\n",
    "questions_percentage_nationality[questions[0]]"
   ]
  },
  {
   "cell_type": "code",
   "execution_count": null,
   "metadata": {},
   "outputs": [],
   "source": [
    "!mkdir -p csv_nationality"
   ]
  },
  {
   "cell_type": "code",
   "execution_count": null,
   "metadata": {},
   "outputs": [],
   "source": [
    "# Export table for each question\n",
    "\n",
    "for i, question in enumerate(questions):\n",
    "    question_data = questions_percentage_nationality[question]\n",
    "    question_df = pd.DataFrame(question_data).T\n",
    "    question_df.to_csv(f'csv_nationality/Q{i+1}_percentage.csv')"
   ]
  },
  {
   "cell_type": "code",
   "execution_count": null,
   "metadata": {},
   "outputs": [],
   "source": [
    "genders = data['Gender'].unique()\n",
    "genders"
   ]
  },
  {
   "cell_type": "code",
   "execution_count": null,
   "metadata": {},
   "outputs": [],
   "source": [
    "questions = data.columns[4:]\n",
    "\n",
    "questions_dict_gender = {}\n",
    "\n",
    "for i in range(len(questions)):\n",
    "    questions_dict_gender[questions[i]] = {}\n",
    "\n",
    "    for gender in genders:\n",
    "        questions_dict_gender[questions[i]][gender] = {}\n",
    "\n",
    "        for response in responses:\n",
    "            questions_dict_gender[questions[i]][gender][response] = 0\n",
    "\n",
    "questions_dict_gender\n"
   ]
  },
  {
   "cell_type": "code",
   "execution_count": null,
   "metadata": {},
   "outputs": [],
   "source": [
    "for reponse in data_array[1:]:\n",
    "    student_info = reponse[:4]\n",
    "    gender = student_info[3]\n",
    "    student_responses = reponse[4:]\n",
    "\n",
    "    for i, question in enumerate(questions):\n",
    "        word_response = responses[student_responses[i]-1]\n",
    "\n",
    "        questions_dict_gender[question][gender][word_response] += 1\n",
    "\n",
    "questions_dict_gender[questions[0]]"
   ]
  },
  {
   "cell_type": "code",
   "execution_count": null,
   "metadata": {},
   "outputs": [],
   "source": [
    "# for each question, create table of percentage of responses for each year group\n",
    "\n",
    "questions_percentage_gender = {}\n",
    "\n",
    "for i, question in enumerate(questions):\n",
    "    questions_percentage_gender[question] = {}\n",
    "\n",
    "    for gender in genders:\n",
    "        questions_percentage_gender[question][gender] = {}\n",
    "\n",
    "        total = sum(questions_dict_gender[question][gender].values())\n",
    "\n",
    "        for response in responses:\n",
    "            questions_percentage_gender[question][gender][response] = round(questions_dict_gender[question][gender][response] / total * 100, 2)\n",
    "\n",
    "questions_percentage_gender[questions[0]]"
   ]
  },
  {
   "cell_type": "code",
   "execution_count": null,
   "metadata": {},
   "outputs": [],
   "source": [
    "! mkdir -p csv_gender"
   ]
  },
  {
   "cell_type": "code",
   "execution_count": null,
   "metadata": {},
   "outputs": [],
   "source": [
    "# Export table for each question\n",
    "\n",
    "for i, question in enumerate(questions):\n",
    "    question_data = questions_percentage_gender[question]\n",
    "    question_df = pd.DataFrame(question_data).T\n",
    "    question_df.to_csv(f'csv_gender/Q{i+1}_percentage.csv')\n",
    "    "
   ]
  },
  {
   "cell_type": "code",
   "execution_count": null,
   "metadata": {},
   "outputs": [],
   "source": [
    "# Create a big table for each question with percentage of responses\n",
    "\n",
    "questions_percentage_all = {}\n",
    "\n",
    "for i, question in enumerate(questions):\n",
    "    questions_percentage_all[question] = {}\n",
    "\n",
    "    for reponse in responses:\n",
    "        questions_percentage_all[question][reponse] = 0\n",
    "\n",
    "questions_percentage_all"
   ]
  },
  {
   "cell_type": "code",
   "execution_count": null,
   "metadata": {},
   "outputs": [],
   "source": [
    "for i, question in enumerate(questions):\n",
    "    for response in responses:\n",
    "        total = 0\n",
    "\n",
    "        for year_group in sorted_year_group:\n",
    "            total += questions_dict[question][year_group][response]\n",
    "\n",
    "        questions_percentage_all[question][response] = round(total / len(data) * 100, 2)\n",
    "\n",
    "questions_percentage_all[questions[0]]"
   ]
  },
  {
   "cell_type": "code",
   "execution_count": null,
   "metadata": {},
   "outputs": [],
   "source": [
    "# Save to csv file with index column\n",
    "\n",
    "questions_percentage_all_df = pd.DataFrame(questions_percentage_all).T\n",
    "\n",
    "# make first column name is Question \n",
    "questions_percentage_all_df.index.name = 'Question'\n",
    "\n",
    "questions_percentage_all_df.to_excel('percentage_all.xlsx')"
   ]
  },
  {
   "cell_type": "code",
   "execution_count": null,
   "metadata": {},
   "outputs": [],
   "source": [
    "import os"
   ]
  },
  {
   "cell_type": "code",
   "execution_count": null,
   "metadata": {},
   "outputs": [],
   "source": [
    "files = os.listdir('csv_year')\n",
    "files"
   ]
  },
  {
   "cell_type": "code",
   "execution_count": null,
   "metadata": {},
   "outputs": [],
   "source": [
    "import os\n",
    "\n",
    "for file in files:\n",
    "    gender_file = f'csv_gender/{file}'\n",
    "    nationality_file = f'csv_nationality/{file}'\n",
    "    year_file = f'csv_year/{file}'\n",
    "\n",
    "    print(gender_file, nationality_file, year_file)\n",
    "\n",
    "    # Check if the files exist\n",
    "    gender_exists = os.path.exists(gender_file)\n",
    "    nationality_exists = os.path.exists(nationality_file)\n",
    "    year_exists = os.path.exists(year_file)\n",
    "\n",
    "    # Log the results\n",
    "    print(f\"File: {file}\")\n",
    "    print(f\"  Gender file exists: {gender_exists}\")\n",
    "    print(f\"  Nationality file exists: {nationality_exists}\")\n",
    "    print(f\"  Year file exists: {year_exists}\")\n",
    "    print()"
   ]
  },
  {
   "cell_type": "code",
   "execution_count": null,
   "metadata": {},
   "outputs": [],
   "source": [
    "# Directory containing Excel files\n",
    "xls_dir = 'all_data_csv'\n",
    "all_csv = os.listdir(xls_dir)\n",
    "\n",
    "# Extract numbers from filenames and sort correctly\n",
    "def extract_number(filename):\n",
    "    match = re.search(r'Q(\\d+)', filename)  # Extracts the number after 'Q'\n",
    "    return int(match.group(1)) if match else float('inf')  # Convert to int for proper sorting\n",
    "\n",
    "sorted_csv = sorted(all_csv, key=extract_number)  # Sort numerically"
   ]
  },
  {
   "cell_type": "code",
   "execution_count": null,
   "metadata": {},
   "outputs": [],
   "source": [
    "# Create 1 new file for each question with all the data stacked on top of each other with 1 row in between each table\n",
    "\n",
    "os.makedirs('all_data_csv', exist_ok=True)\n",
    "os.makedirs('all_data_xls', exist_ok=True)\n",
    "\n",
    "for index, file in enumerate(sorted_csv):\n",
    "    gender_file = f'csv_gender/{file}'\n",
    "    nationality_file = f'csv_nationality/{file}'\n",
    "    year_file = f'csv_year/{file}'\n",
    "    \n",
    "    print(index)\n",
    "    print(gender_file, nationality_file, year_file)\n",
    "\n",
    "    gender_data = pd.read_csv(gender_file)\n",
    "    nationality_data = pd.read_csv(nationality_file)\n",
    "    year_data = pd.read_csv(year_file)\n",
    "\n",
    "    total_stats_row = pd.DataFrame()\n",
    "\n",
    "    # Rename the first column to 'Category'\n",
    "    gender_data.rename(columns={'Unnamed: 0': 'Category'}, inplace=True)\n",
    "    nationality_data.rename(columns={'Unnamed: 0': 'Category'}, inplace=True)\n",
    "    year_data.rename(columns={'Unnamed: 0': 'Category'}, inplace=True)\n",
    "\n",
    "    question_full = questions[index]\n",
    "\n",
    "    # Add a row of NaNs to separate the tables\n",
    "    separator = pd.DataFrame([[''] * gender_data.shape[1]], columns=gender_data.columns)\n",
    "    \n",
    "    all_data = pd.concat([gender_data, separator, nationality_data, separator, year_data], ignore_index=True)\n",
    "\n",
    "    # Calculate the total stats percentage for each question\n",
    "    total_stats = questions_percentage_all[questions[index]]\n",
    "    print(questions[index])\n",
    "    total_stats_row = pd.DataFrame([total_stats], columns=all_data.columns)\n",
    "    total_stats_row['Category'] = 'Total Stats'\n",
    "\n",
    "    # Add the total stats row to the concatenated data\n",
    "    all_data = pd.concat([all_data, separator, total_stats_row], ignore_index=True)\n",
    "\n",
    "    # Export the concatenated data to the all_data_csv folder\n",
    "    all_data.to_csv(f'all_data_csv/{file}', index=False)\n",
    "\n",
    "    # Export the concatenated data to the all_data_xls folder\n",
    "    all_data.to_excel(f'all_data_xls/{file.replace(\".csv\", \".xlsx\")}', index=False)\n"
   ]
  },
  {
   "cell_type": "code",
   "execution_count": null,
   "metadata": {},
   "outputs": [],
   "source": [
    "# Directory containing Excel files\n",
    "xls_dir = 'all_data_xls'\n",
    "all_xls = os.listdir(xls_dir)\n",
    "\n",
    "# Extract numbers from filenames and sort correctly\n",
    "def extract_number(filename):\n",
    "    match = re.search(r'Q(\\d+)', filename)  # Extracts the number after 'Q'\n",
    "    return int(match.group(1)) if match else float('inf')  # Convert to int for proper sorting\n",
    "\n",
    "sorted_xls = sorted(all_xls, key=extract_number)  # Sort numerically"
   ]
  },
  {
   "cell_type": "code",
   "execution_count": null,
   "metadata": {},
   "outputs": [],
   "source": [
    "import openpyxl\n",
    "\n",
    "for index, file in enumerate(sorted_xls):\n",
    "    print(index, f'all_data_xls/{file.replace(\".csv\", \".xlsx\")}')\n",
    "    question = questions[index]\n",
    "\n",
    "    # Load the existing workbook\n",
    "    wb = openpyxl.load_workbook(f'all_data_xls/{file.replace(\".csv\", \".xlsx\")}')\n",
    "    ws = wb.active  # Get the first sheet\n",
    "\n",
    "    # Insert the question at row 0 (first row)\n",
    "    ws.insert_rows(1)  # Push existing data down\n",
    "    ws.cell(row=1, column=1, value=question)  # Set the question in the first cell\n",
    "\n",
    "    # Merge the first 5 columns for that row (A1:E1)\n",
    "    ws.merge_cells(start_row=1, start_column=1, end_row=1, end_column=5)\n",
    "\n",
    "    # Save the updated file\n",
    "    wb.save(f'all_data_xls/{file.replace(\".csv\", \".xlsx\")}')\n"
   ]
  },
  {
   "cell_type": "code",
   "execution_count": null,
   "metadata": {},
   "outputs": [],
   "source": [
    "all_xls = os.listdir('all_data_xls')\n",
    "all_xls"
   ]
  },
  {
   "cell_type": "code",
   "execution_count": null,
   "metadata": {},
   "outputs": [],
   "source": [
    "import os\n",
    "import openpyxl\n",
    "import re\n",
    "\n",
    "# Directory containing Excel files\n",
    "xls_dir = 'all_data_xls'\n",
    "all_xls = os.listdir(xls_dir)\n",
    "\n",
    "# Extract numbers from filenames and sort correctly\n",
    "def extract_number(filename):\n",
    "    match = re.search(r'Q(\\d+)', filename)  # Extracts the number after 'Q'\n",
    "    return int(match.group(1)) if match else float('inf')  # Convert to int for proper sorting\n",
    "\n",
    "sorted_xls = sorted(all_xls, key=extract_number)  # Sort numerically\n",
    "\n",
    "# Create a new workbook\n",
    "wb = openpyxl.Workbook()\n",
    "default_sheet = wb.active\n",
    "wb.remove(default_sheet)  # Remove the default sheet\n",
    "\n",
    "for idx, file in enumerate(sorted_xls):\n",
    "    if not file.endswith('.xlsx'):\n",
    "        continue  # Skip non-Excel files\n",
    "\n",
    "    file_path = os.path.join(xls_dir, file)\n",
    "\n",
    "    # Extract question number (e.g., 'Q47' from 'Q47_percentage.xlsx')\n",
    "    sheet_name = file.split('_')[0]  # Extracts 'Q47'\n",
    "\n",
    "    # Load the individual Excel file\n",
    "    wb_temp = openpyxl.load_workbook(file_path)\n",
    "    ws_temp = wb_temp.active  # Get first sheet of the source file\n",
    "\n",
    "    # Create a new sheet with the question number as the name\n",
    "    ws = wb.create_sheet(title=sheet_name)\n",
    "\n",
    "    #Merge the first 5 columns (A1:E1) and add the question title\n",
    "    ws.merge_cells(start_row=1, start_column=1, end_row=1, end_column=5)\n",
    "\n",
    "    # Copy data from the individual sheet, starting from row 2\n",
    "    for row in ws_temp.iter_rows(values_only=True):\n",
    "        ws.append(row)\n",
    "    \n",
    "    # Remove first row\n",
    "    ws.delete_rows(1)\n",
    "\n",
    "# Save the merged Excel file\n",
    "merged_file = \"merged_questions.xlsx\"\n",
    "wb.save(merged_file)\n",
    "print(f\"Merged Excel saved as {merged_file}\")\n"
   ]
  },
  {
   "cell_type": "code",
   "execution_count": null,
   "metadata": {},
   "outputs": [],
   "source": []
  },
  {
   "cell_type": "code",
   "execution_count": null,
   "metadata": {},
   "outputs": [],
   "source": []
  }
 ],
 "metadata": {
  "kernelspec": {
   "display_name": "Python 3",
   "language": "python",
   "name": "python3"
  },
  "language_info": {
   "codemirror_mode": {
    "name": "ipython",
    "version": 3
   },
   "file_extension": ".py",
   "mimetype": "text/x-python",
   "name": "python",
   "nbconvert_exporter": "python",
   "pygments_lexer": "ipython3",
   "version": "3.12.2"
  }
 },
 "nbformat": 4,
 "nbformat_minor": 2
}
